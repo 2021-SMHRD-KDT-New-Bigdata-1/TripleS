{
 "cells": [
  {
   "cell_type": "code",
   "execution_count": 1,
   "id": "b09bb757",
   "metadata": {},
   "outputs": [],
   "source": [
    "from selenium import webdriver as wb\n",
    "from selenium.webdriver.common.keys import Keys\n",
    "import requests as req\n",
    "import pandas as pd\n",
    "from bs4 import BeautifulSoup as bs\n",
    "import time"
   ]
  },
  {
   "cell_type": "code",
   "execution_count": 2,
   "id": "397c53d2",
   "metadata": {},
   "outputs": [],
   "source": [
    "driver = wb.Chrome()\n",
    "driver.get(\"https://www.justwatch.com/kr/%EB%8F%99%EC%98%81%EC%83%81%EC%84%9C%EB%B9%84%EC%8A%A4/netflix\")"
   ]
  },
  {
   "cell_type": "code",
   "execution_count": 3,
   "id": "b5b63372",
   "metadata": {},
   "outputs": [],
   "source": [
    "body=driver.find_element_by_tag_name('body')\n",
    "for i in range(10):\n",
    "    time.sleep(0.5)\n",
    "    body.send_keys(Keys.PAGE_DOWN)"
   ]
  },
  {
   "cell_type": "code",
   "execution_count": 4,
   "id": "127fd401",
   "metadata": {},
   "outputs": [],
   "source": [
    "for i in range(13):\n",
    "    time.sleep(0.5)\n",
    "    body.send_keys(Keys.PAGE_UP)"
   ]
  },
  {
   "cell_type": "code",
   "execution_count": 3,
   "id": "0f2eafca",
   "metadata": {},
   "outputs": [
    {
     "data": {
      "text/plain": [
       "360"
      ]
     },
     "execution_count": 3,
     "metadata": {},
     "output_type": "execute_result"
    }
   ],
   "source": [
    "img=driver.find_elements_by_css_selector('.title-list-grid__item')\n",
    "len(img)"
   ]
  },
  {
   "cell_type": "code",
   "execution_count": 4,
   "id": "1cabffb0",
   "metadata": {},
   "outputs": [],
   "source": [
    "title_list = [] #영화 제목 리스트\n",
    "year_list = [] # 개봉년도\n",
    "synop_list = [] # 시놉시스\n",
    "rank = []\n",
    "for i in range(100):\n",
    "    img=driver.find_elements_by_css_selector('.title-list-grid__item')\n",
    "    img[i].click()\n",
    "    time.sleep(2)\n",
    "    soup = bs(driver.page_source,'lxml')\n",
    "    title = soup.select('div>h1')# 영화제목\n",
    "    year = soup.select('.text-muted')# 개봉일\n",
    "    synop = soup.select('p>span') #시놉시스\n",
    "    img1 = soup.find_all('img') # 이미지\n",
    "    img_res  = req.get(img1[len(img1)-2][\"data-src\"])\n",
    "    title_list.append(title[0].text)\n",
    "    year_list.append(year[0].text)\n",
    "    synop_list.append(synop[1].text)\n",
    "    rank.append(i+1)\n",
    "    with open(f\"{i+1}.jpg\", \"wb\") as f:\n",
    "        f.write(img_res.content)\n",
    "        driver.back()"
   ]
  },
  {
   "cell_type": "code",
   "execution_count": 9,
   "id": "8327891e",
   "metadata": {},
   "outputs": [],
   "source": [
    "dic = {\"번호\":rank,\"영화명\" : title_list, \"개봉일\" : year_list, \"시놉시스\" : synop_list}"
   ]
  },
  {
   "cell_type": "code",
   "execution_count": 10,
   "id": "38bb7073",
   "metadata": {},
   "outputs": [
    {
     "data": {
      "text/html": [
       "<div>\n",
       "<style scoped>\n",
       "    .dataframe tbody tr th:only-of-type {\n",
       "        vertical-align: middle;\n",
       "    }\n",
       "\n",
       "    .dataframe tbody tr th {\n",
       "        vertical-align: top;\n",
       "    }\n",
       "\n",
       "    .dataframe thead th {\n",
       "        text-align: right;\n",
       "    }\n",
       "</style>\n",
       "<table border=\"1\" class=\"dataframe\">\n",
       "  <thead>\n",
       "    <tr style=\"text-align: right;\">\n",
       "      <th></th>\n",
       "      <th>영화명</th>\n",
       "      <th>개봉일</th>\n",
       "      <th>시놉시스</th>\n",
       "    </tr>\n",
       "    <tr>\n",
       "      <th>번호</th>\n",
       "      <th></th>\n",
       "      <th></th>\n",
       "      <th></th>\n",
       "    </tr>\n",
       "  </thead>\n",
       "  <tbody>\n",
       "    <tr>\n",
       "      <th>1</th>\n",
       "      <td>홈랜드</td>\n",
       "      <td>(2011)</td>\n",
       "      <td>미 해병대 보병 부사관인 니콜라스 브로디 하사는 이라크 자유작전(이라크 전쟁) 중 ...</td>\n",
       "    </tr>\n",
       "    <tr>\n",
       "      <th>2</th>\n",
       "      <td>킹덤</td>\n",
       "      <td>(2019)</td>\n",
       "      <td>2019년 1월 Netflix에서 방영을 시작한 좀비물. 병든 왕을 둘러싸고 흉흉한...</td>\n",
       "    </tr>\n",
       "    <tr>\n",
       "      <th>3</th>\n",
       "      <td>포스트모템: 스카르네스에서는 아무도 죽지 않는다</td>\n",
       "      <td>(2021)</td>\n",
       "      <td>Live Hallangen is declared dead but hours late...</td>\n",
       "    </tr>\n",
       "    <tr>\n",
       "      <th>4</th>\n",
       "      <td>D.P.</td>\n",
       "      <td>(2021)</td>\n",
       "      <td>탈영병을 잡는다. 이등병 준호에게 떨어진 새로운 임무. 그는 탈영병들을 추적하며 지...</td>\n",
       "    </tr>\n",
       "    <tr>\n",
       "      <th>5</th>\n",
       "      <td>Shadowplay</td>\n",
       "      <td>(2020)</td>\n",
       "      <td>1946년 베를린, 한 미국 경찰이 실종된 형을 찾고 있다. 그 앞에 펼쳐진 도시의...</td>\n",
       "    </tr>\n",
       "    <tr>\n",
       "      <th>...</th>\n",
       "      <td>...</td>\n",
       "      <td>...</td>\n",
       "      <td>...</td>\n",
       "    </tr>\n",
       "    <tr>\n",
       "      <th>96</th>\n",
       "      <td>BattleBots</td>\n",
       "      <td>(2015)</td>\n",
       "      <td>BattleBots promises to wow viewers with next g...</td>\n",
       "    </tr>\n",
       "    <tr>\n",
       "      <th>97</th>\n",
       "      <td>노는 언니</td>\n",
       "      <td>(2020)</td>\n",
       "      <td>여성 스포츠 스타들이 그동안 놓치고 살았던 것들에 도전하며 '놀아보는' 세컨드 라이...</td>\n",
       "    </tr>\n",
       "    <tr>\n",
       "      <th>98</th>\n",
       "      <td>더티 픽처</td>\n",
       "      <td>(2011)</td>\n",
       "      <td>배우가 되겠다는 일념으로 집을 나온 시골 소녀가 영화계에 뛰어들어 섹스 심볼로 추앙...</td>\n",
       "    </tr>\n",
       "    <tr>\n",
       "      <th>99</th>\n",
       "      <td>낫아웃</td>\n",
       "      <td>(2021)</td>\n",
       "      <td>고교야구 유망주인 열아홉 소년 광호. 프로야구 선수 드래프트에서 선발되지 못해 상처...</td>\n",
       "    </tr>\n",
       "    <tr>\n",
       "      <th>100</th>\n",
       "      <td>러브</td>\n",
       "      <td>(2016)</td>\n",
       "      <td>주드 아패토우가 공동 제작한 이 대담한 새 코미디 시리즈는 까칠한 미키와 순한 거스...</td>\n",
       "    </tr>\n",
       "  </tbody>\n",
       "</table>\n",
       "<p>100 rows × 3 columns</p>\n",
       "</div>"
      ],
      "text/plain": [
       "                              영화명       개봉일  \\\n",
       "번호                                            \n",
       "1                            홈랜드    (2011)    \n",
       "2                             킹덤    (2019)    \n",
       "3     포스트모템: 스카르네스에서는 아무도 죽지 않는다    (2021)    \n",
       "4                           D.P.    (2021)    \n",
       "5                     Shadowplay    (2020)    \n",
       "..                            ...       ...   \n",
       "96                    BattleBots    (2015)    \n",
       "97                         노는 언니    (2020)    \n",
       "98                         더티 픽처    (2011)    \n",
       "99                           낫아웃    (2021)    \n",
       "100                           러브    (2016)    \n",
       "\n",
       "                                                  시놉시스  \n",
       "번호                                                      \n",
       "1    미 해병대 보병 부사관인 니콜라스 브로디 하사는 이라크 자유작전(이라크 전쟁) 중 ...  \n",
       "2    2019년 1월 Netflix에서 방영을 시작한 좀비물. 병든 왕을 둘러싸고 흉흉한...  \n",
       "3    Live Hallangen is declared dead but hours late...  \n",
       "4    탈영병을 잡는다. 이등병 준호에게 떨어진 새로운 임무. 그는 탈영병들을 추적하며 지...  \n",
       "5    1946년 베를린, 한 미국 경찰이 실종된 형을 찾고 있다. 그 앞에 펼쳐진 도시의...  \n",
       "..                                                 ...  \n",
       "96   BattleBots promises to wow viewers with next g...  \n",
       "97   여성 스포츠 스타들이 그동안 놓치고 살았던 것들에 도전하며 '놀아보는' 세컨드 라이...  \n",
       "98   배우가 되겠다는 일념으로 집을 나온 시골 소녀가 영화계에 뛰어들어 섹스 심볼로 추앙...  \n",
       "99   고교야구 유망주인 열아홉 소년 광호. 프로야구 선수 드래프트에서 선발되지 못해 상처...  \n",
       "100  주드 아패토우가 공동 제작한 이 대담한 새 코미디 시리즈는 까칠한 미키와 순한 거스...  \n",
       "\n",
       "[100 rows x 3 columns]"
      ]
     },
     "execution_count": 10,
     "metadata": {},
     "output_type": "execute_result"
    }
   ],
   "source": [
    "df = pd.DataFrame(dic)\n",
    "df.set_index(\"번호\" , inplace = True)\n",
    "df"
   ]
  },
  {
   "cell_type": "code",
   "execution_count": 11,
   "id": "6676dd8f",
   "metadata": {},
   "outputs": [],
   "source": [
    "df.to_excel(\"netflix.xlsx\")"
   ]
  },
  {
   "cell_type": "code",
   "execution_count": null,
   "id": "42d395bb",
   "metadata": {},
   "outputs": [],
   "source": []
  }
 ],
 "metadata": {
  "kernelspec": {
   "display_name": "Python 3",
   "language": "python",
   "name": "python3"
  },
  "language_info": {
   "codemirror_mode": {
    "name": "ipython",
    "version": 3
   },
   "file_extension": ".py",
   "mimetype": "text/x-python",
   "name": "python",
   "nbconvert_exporter": "python",
   "pygments_lexer": "ipython3",
   "version": "3.8.8"
  },
  "toc": {
   "base_numbering": 1,
   "nav_menu": {},
   "number_sections": true,
   "sideBar": true,
   "skip_h1_title": false,
   "title_cell": "Table of Contents",
   "title_sidebar": "Contents",
   "toc_cell": false,
   "toc_position": {},
   "toc_section_display": true,
   "toc_window_display": false
  }
 },
 "nbformat": 4,
 "nbformat_minor": 5
}
