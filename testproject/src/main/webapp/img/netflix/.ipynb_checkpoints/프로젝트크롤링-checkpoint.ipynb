{
 "cells": [
  {
   "cell_type": "code",
   "execution_count": 12,
   "id": "b09bb757",
   "metadata": {},
   "outputs": [],
   "source": [
    "from selenium import webdriver as wb\n",
    "from selenium.webdriver.common.keys import Keys\n",
    "import requests as req\n",
    "import pandas as pd\n",
    "from bs4 import BeautifulSoup as bs\n",
    "import time"
   ]
  },
  {
   "cell_type": "code",
   "execution_count": 2,
   "id": "397c53d2",
   "metadata": {},
   "outputs": [],
   "source": [
    "driver = wb.Chrome()\n",
    "driver.get(\"https://www.justwatch.com/kr/%EB%8F%99%EC%98%81%EC%83%81%EC%84%9C%EB%B9%84%EC%8A%A4/netflix\")"
   ]
  },
  {
   "cell_type": "code",
   "execution_count": 13,
   "id": "2a9a8732",
   "metadata": {},
   "outputs": [],
   "source": [
    "soup = bs(driver.page_source,'lxml')\n",
    "actor  = soup.select('.title-credit-name')"
   ]
  },
  {
   "cell_type": "code",
   "execution_count": 10,
   "id": "b5b63372",
   "metadata": {},
   "outputs": [],
   "source": [
    "body=driver.find_element_by_tag_name('body')\n",
    "for i in range(10):\n",
    "    time.sleep(0.5)\n",
    "    body.send_keys(Keys.PAGE_DOWN)"
   ]
  },
  {
   "cell_type": "code",
   "execution_count": 11,
   "id": "127fd401",
   "metadata": {},
   "outputs": [],
   "source": [
    "for i in range(13):\n",
    "    time.sleep(0.5)\n",
    "    body.send_keys(Keys.PAGE_UP)"
   ]
  },
  {
   "cell_type": "code",
   "execution_count": 14,
   "id": "0f2eafca",
   "metadata": {},
   "outputs": [
    {
     "data": {
      "text/plain": [
       "210"
      ]
     },
     "execution_count": 14,
     "metadata": {},
     "output_type": "execute_result"
    }
   ],
   "source": [
    "img=driver.find_elements_by_css_selector('.title-list-grid__item')\n",
    "len(img)"
   ]
  },
  {
   "cell_type": "code",
   "execution_count": 9,
   "id": "9b788c8f",
   "metadata": {},
   "outputs": [],
   "source": [
    "time= soup.select('.detail-infos__detail--values')"
   ]
  },
  {
   "cell_type": "code",
   "execution_count": 26,
   "id": "85bdc940",
   "metadata": {},
   "outputs": [
    {
     "data": {
      "text/plain": [
       "'52min'"
      ]
     },
     "execution_count": 26,
     "metadata": {},
     "output_type": "execute_result"
    }
   ],
   "source": [
    "time[2].text"
   ]
  },
  {
   "cell_type": "code",
   "execution_count": 19,
   "id": "fe2bc5da",
   "metadata": {},
   "outputs": [],
   "source": [
    "title_list = [] #영화 제목 리스트\n",
    "year_list = [] # 개봉년도\n",
    "synop_list = [] # 시놉시스\n",
    "rank = []\n",
    "actor_list= []\n",
    "actor1=\"\";\n",
    "genre_list = []\n",
    "time_list = []"
   ]
  },
  {
   "cell_type": "code",
   "execution_count": 23,
   "id": "1cabffb0",
   "metadata": {},
   "outputs": [],
   "source": [
    "\n",
    "for i in range(90,100):\n",
    "    img=driver.find_elements_by_css_selector('.title-list-grid__item')\n",
    "    img[i].click()\n",
    "    time.sleep(2.5)\n",
    "    soup = bs(driver.page_source,'lxml')\n",
    "    title = soup.select('div>h1')# 영화제목\n",
    "    year = soup.select('.text-muted')# 개봉일\n",
    "    synop = soup.select('p>span') #시놉시스\n",
    "    img1 = soup.find_all('img') # 이미지\n",
    "    actor  = soup.select('.title-credit-name') # 출연진\n",
    "    genre= soup.select('.detail-infos__detail--values') # 장르\n",
    "    for e in range(len(actor)):\n",
    "        actor1+=actor[e].text\n",
    "    img_res  = req.get(img1[len(img1)-2][\"data-src\"])\n",
    "    actor_list.append (actor1)\n",
    "    actor1 =\"\"\n",
    "    title_list.append(title[0].text)\n",
    "    year_list.append(year[0].text)\n",
    "    synop_list.append(synop[1].text)\n",
    "    genre_list.append(genre[1].text)\n",
    "    time_list.append(genre[2].text)\n",
    "    rank.append(i+1)\n",
    "    with open(f\"{i+1}.jpg\", \"wb\") as f:\n",
    "        f.write(img_res.content)  \n",
    "    driver.back()"
   ]
  },
  {
   "cell_type": "code",
   "execution_count": 28,
   "id": "8327891e",
   "metadata": {},
   "outputs": [],
   "source": [
    "dic = {\"영화명\" : title_list, \"개봉일\" : year_list, \"시놉시스\" : synop_list,\"출연진\" : actor_list,\"장르\" : genre_list, \"러닝타임\" : time_list}"
   ]
  },
  {
   "cell_type": "code",
   "execution_count": 29,
   "id": "38bb7073",
   "metadata": {},
   "outputs": [
    {
     "data": {
      "text/html": [
       "<div>\n",
       "<style scoped>\n",
       "    .dataframe tbody tr th:only-of-type {\n",
       "        vertical-align: middle;\n",
       "    }\n",
       "\n",
       "    .dataframe tbody tr th {\n",
       "        vertical-align: top;\n",
       "    }\n",
       "\n",
       "    .dataframe thead th {\n",
       "        text-align: right;\n",
       "    }\n",
       "</style>\n",
       "<table border=\"1\" class=\"dataframe\">\n",
       "  <thead>\n",
       "    <tr style=\"text-align: right;\">\n",
       "      <th></th>\n",
       "      <th>영화명</th>\n",
       "      <th>개봉일</th>\n",
       "      <th>시놉시스</th>\n",
       "      <th>출연진</th>\n",
       "      <th>장르</th>\n",
       "      <th>러닝타임</th>\n",
       "    </tr>\n",
       "  </thead>\n",
       "  <tbody>\n",
       "    <tr>\n",
       "      <th>0</th>\n",
       "      <td>홈랜드</td>\n",
       "      <td>(2011)</td>\n",
       "      <td>미 해병대 보병 부사관인 니콜라스 브로디 하사는 이라크 자유작전(이라크 전쟁) 중 ...</td>\n",
       "      <td>Claire Danes  Maury Sterling  Numan Acar  Nim...</td>\n",
       "      <td>액션, 전쟁, 스릴러, 범죄, 드라마</td>\n",
       "      <td>52min</td>\n",
       "    </tr>\n",
       "    <tr>\n",
       "      <th>1</th>\n",
       "      <td>디피</td>\n",
       "      <td>(2021)</td>\n",
       "      <td>탈영병을 잡는다. 이등병 준호에게 떨어진 새로운 임무. 그는 탈영병들을 추적하며 지...</td>\n",
       "      <td>Han Jun-hee  Han Jun-hee  Jung Hae-in  Koo Ky...</td>\n",
       "      <td>드라마</td>\n",
       "      <td>56min</td>\n",
       "    </tr>\n",
       "    <tr>\n",
       "      <th>2</th>\n",
       "      <td>포스트모템: 스카르네스에서는 아무도 죽지 않는다</td>\n",
       "      <td>(2021)</td>\n",
       "      <td>Live Hallangen is declared dead but hours late...</td>\n",
       "      <td></td>\n",
       "      <td>스릴러, 코미디, 드라마</td>\n",
       "      <td>45min</td>\n",
       "    </tr>\n",
       "    <tr>\n",
       "      <th>3</th>\n",
       "      <td>라인 오브 듀티</td>\n",
       "      <td>(2012)</td>\n",
       "      <td>총기 오발 사건을 은폐해 달라는 요청을 거절한 스티브 아놋 경사는 반부패과에 발령받...</td>\n",
       "      <td>Martin Compston  Vicky McClure  Adrian Dunbar...</td>\n",
       "      <td>드라마, 스릴러, 범죄, Made in Europe</td>\n",
       "      <td>1시간 0분</td>\n",
       "    </tr>\n",
       "    <tr>\n",
       "      <th>4</th>\n",
       "      <td>Shadowplay</td>\n",
       "      <td>(2020)</td>\n",
       "      <td>1946년 베를린, 한 미국 경찰이 실종된 형을 찾고 있다. 그 앞에 펼쳐진 도시의...</td>\n",
       "      <td>Måns Mårlind  Måns Mårlind  Taylor Kitsch  Mi...</td>\n",
       "      <td>드라마, 스릴러</td>\n",
       "      <td>55min</td>\n",
       "    </tr>\n",
       "    <tr>\n",
       "      <th>...</th>\n",
       "      <td>...</td>\n",
       "      <td>...</td>\n",
       "      <td>...</td>\n",
       "      <td>...</td>\n",
       "      <td>...</td>\n",
       "      <td>...</td>\n",
       "    </tr>\n",
       "    <tr>\n",
       "      <th>94</th>\n",
       "      <td>파이널 스페이스</td>\n",
       "      <td>(2018)</td>\n",
       "      <td>외로운 우주인 죄수 게리 굿스피드. 어느 날, 귀여운 외계인 문케이크를 만나다. 그...</td>\n",
       "      <td>Fred Armisen  Tom Kenny  Olan Rogers  Coty Ga...</td>\n",
       "      <td>액션, SF, 코미디, 드라마, 판타지, 애니메이션</td>\n",
       "      <td>21min</td>\n",
       "    </tr>\n",
       "    <tr>\n",
       "      <th>95</th>\n",
       "      <td>더티 픽처</td>\n",
       "      <td>(2011)</td>\n",
       "      <td>배우가 되겠다는 일념으로 집을 나온 시골 소녀가 영화계에 뛰어들어 섹스 심볼로 추앙...</td>\n",
       "      <td>Milan Luthria  Milan Luthria  Vidya Balan  Em...</td>\n",
       "      <td>코미디, 드라마</td>\n",
       "      <td>2시간 24분</td>\n",
       "    </tr>\n",
       "    <tr>\n",
       "      <th>96</th>\n",
       "      <td>돌싱글즈</td>\n",
       "      <td>(2021)</td>\n",
       "      <td>한 번의 아픔을 겪은 매력만점 동싱 남녀들,  한 번 겪었기에 더 과감하고, 더 치...</td>\n",
       "      <td>Park Sun Hye  Park Jung Ae  Kim Ji Eun  Park ...</td>\n",
       "      <td></td>\n",
       "      <td>1시간 24분</td>\n",
       "    </tr>\n",
       "    <tr>\n",
       "      <th>97</th>\n",
       "      <td>보스 베이비: 돌아온 보스</td>\n",
       "      <td>(2018)</td>\n",
       "      <td>사업의 기술을 가르쳐줄까? 회사로 형을 데려간 보스 베이비. 나이만 많았지 갈 길이...</td>\n",
       "      <td>JP Karliak  Miles Bakshi  Eric Bell Jr.  Jake...</td>\n",
       "      <td>액션, 애니메이션, 코미디, 가족, 판타지</td>\n",
       "      <td>23min</td>\n",
       "    </tr>\n",
       "    <tr>\n",
       "      <th>98</th>\n",
       "      <td>신세계</td>\n",
       "      <td>(2013)</td>\n",
       "      <td>경찰청 수사기획과 강과장은 국내 최대 범죄 조직 골드문이 기업형 조직으로 세력이 확...</td>\n",
       "      <td>Park Hoon-jung  Park Hoon-jung  Lee Jung-jae ...</td>\n",
       "      <td>스릴러, 드라마, 액션, 범죄</td>\n",
       "      <td>2시간 14분</td>\n",
       "    </tr>\n",
       "  </tbody>\n",
       "</table>\n",
       "<p>99 rows × 6 columns</p>\n",
       "</div>"
      ],
      "text/plain": [
       "                             영화명       개봉일  \\\n",
       "0                           홈랜드    (2011)    \n",
       "1                            디피    (2021)    \n",
       "2    포스트모템: 스카르네스에서는 아무도 죽지 않는다    (2021)    \n",
       "3                      라인 오브 듀티    (2012)    \n",
       "4                    Shadowplay    (2020)    \n",
       "..                           ...       ...   \n",
       "94                     파이널 스페이스    (2018)    \n",
       "95                        더티 픽처    (2011)    \n",
       "96                         돌싱글즈    (2021)    \n",
       "97               보스 베이비: 돌아온 보스    (2018)    \n",
       "98                          신세계    (2013)    \n",
       "\n",
       "                                                 시놉시스  \\\n",
       "0   미 해병대 보병 부사관인 니콜라스 브로디 하사는 이라크 자유작전(이라크 전쟁) 중 ...   \n",
       "1   탈영병을 잡는다. 이등병 준호에게 떨어진 새로운 임무. 그는 탈영병들을 추적하며 지...   \n",
       "2   Live Hallangen is declared dead but hours late...   \n",
       "3   총기 오발 사건을 은폐해 달라는 요청을 거절한 스티브 아놋 경사는 반부패과에 발령받...   \n",
       "4   1946년 베를린, 한 미국 경찰이 실종된 형을 찾고 있다. 그 앞에 펼쳐진 도시의...   \n",
       "..                                                ...   \n",
       "94  외로운 우주인 죄수 게리 굿스피드. 어느 날, 귀여운 외계인 문케이크를 만나다. 그...   \n",
       "95  배우가 되겠다는 일념으로 집을 나온 시골 소녀가 영화계에 뛰어들어 섹스 심볼로 추앙...   \n",
       "96  한 번의 아픔을 겪은 매력만점 동싱 남녀들,  한 번 겪었기에 더 과감하고, 더 치...   \n",
       "97  사업의 기술을 가르쳐줄까? 회사로 형을 데려간 보스 베이비. 나이만 많았지 갈 길이...   \n",
       "98  경찰청 수사기획과 강과장은 국내 최대 범죄 조직 골드문이 기업형 조직으로 세력이 확...   \n",
       "\n",
       "                                                  출연진  \\\n",
       "0    Claire Danes  Maury Sterling  Numan Acar  Nim...   \n",
       "1    Han Jun-hee  Han Jun-hee  Jung Hae-in  Koo Ky...   \n",
       "2                                                       \n",
       "3    Martin Compston  Vicky McClure  Adrian Dunbar...   \n",
       "4    Måns Mårlind  Måns Mårlind  Taylor Kitsch  Mi...   \n",
       "..                                                ...   \n",
       "94   Fred Armisen  Tom Kenny  Olan Rogers  Coty Ga...   \n",
       "95   Milan Luthria  Milan Luthria  Vidya Balan  Em...   \n",
       "96   Park Sun Hye  Park Jung Ae  Kim Ji Eun  Park ...   \n",
       "97   JP Karliak  Miles Bakshi  Eric Bell Jr.  Jake...   \n",
       "98   Park Hoon-jung  Park Hoon-jung  Lee Jung-jae ...   \n",
       "\n",
       "                              장르     러닝타임  \n",
       "0           액션, 전쟁, 스릴러, 범죄, 드라마    52min  \n",
       "1                            드라마    56min  \n",
       "2                  스릴러, 코미디, 드라마    45min  \n",
       "3   드라마, 스릴러, 범죄, Made in Europe   1시간 0분  \n",
       "4                       드라마, 스릴러    55min  \n",
       "..                           ...      ...  \n",
       "94  액션, SF, 코미디, 드라마, 판타지, 애니메이션    21min  \n",
       "95                      코미디, 드라마  2시간 24분  \n",
       "96                                1시간 24분  \n",
       "97       액션, 애니메이션, 코미디, 가족, 판타지    23min  \n",
       "98              스릴러, 드라마, 액션, 범죄  2시간 14분  \n",
       "\n",
       "[99 rows x 6 columns]"
      ]
     },
     "execution_count": 29,
     "metadata": {},
     "output_type": "execute_result"
    }
   ],
   "source": [
    "df = pd.DataFrame(dic)\n",
    "df"
   ]
  },
  {
   "cell_type": "code",
   "execution_count": 42,
   "id": "6676dd8f",
   "metadata": {},
   "outputs": [],
   "source": [
    "df.to_excel(\"netflix.xlsx\")"
   ]
  },
  {
   "cell_type": "code",
   "execution_count": null,
   "id": "42d395bb",
   "metadata": {},
   "outputs": [],
   "source": []
  }
 ],
 "metadata": {
  "kernelspec": {
   "display_name": "Python 3",
   "language": "python",
   "name": "python3"
  },
  "language_info": {
   "codemirror_mode": {
    "name": "ipython",
    "version": 3
   },
   "file_extension": ".py",
   "mimetype": "text/x-python",
   "name": "python",
   "nbconvert_exporter": "python",
   "pygments_lexer": "ipython3",
   "version": "3.8.8"
  },
  "toc": {
   "base_numbering": 1,
   "nav_menu": {},
   "number_sections": true,
   "sideBar": true,
   "skip_h1_title": false,
   "title_cell": "Table of Contents",
   "title_sidebar": "Contents",
   "toc_cell": false,
   "toc_position": {},
   "toc_section_display": true,
   "toc_window_display": false
  }
 },
 "nbformat": 4,
 "nbformat_minor": 5
}
